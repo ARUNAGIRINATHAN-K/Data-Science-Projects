{
 "cells": [
  {
   "cell_type": "code",
   "execution_count": 1,
   "id": "dfe8d4d1-7bb4-43ff-b0df-4deb81931b7a",
   "metadata": {},
   "outputs": [],
   "source": [
    "import pandas as pd\n",
    "import numpy as np\n",
    "from sklearn.model_selection import train_test_split\n",
    "from sklearn.ensemble import RandomForestClassifier\n",
    "from sklearn.preprocessing import MultiLabelBinarizer\n",
    "from sklearn.metrics import accuracy_score, classification_report\n",
    "import warnings\n",
    "warnings.filterwarnings('ignore')"
   ]
  },
  {
   "cell_type": "code",
   "execution_count": 3,
   "id": "c3dbb8a2-73c1-475b-a24d-0f8f6a1c7c25",
   "metadata": {},
   "outputs": [],
   "source": [
    "# Load the dataset\n",
    "def load_data():\n",
    "    # Assuming the dataset is already provided as a CSV string\n",
    "    data = pd.read_csv(\"Netflix_dataset's.csv\")\n",
    "    return data"
   ]
  },
  {
   "cell_type": "code",
   "execution_count": 4,
   "id": "8ee7d6cb-0275-49e8-9c50-e8d4cde90636",
   "metadata": {},
   "outputs": [],
   "source": [
    "# Preprocess the data\n",
    "def preprocess_data(df):\n",
    "    # Remove rows with missing critical values\n",
    "    df = df.dropna(subset=['title', 'genres', 'releaseYear', 'imdbAverageRating', 'imdbNumVotes'])\n",
    "    \n",
    "    # Define popularity based on IMDb rating (above median = popular)\n",
    "    median_rating = df['imdbAverageRating'].median()\n",
    "    df['is_popular'] = (df['imdbAverageRating'] > median_rating).astype(int)\n",
    "    \n",
    "    # Process genres: Split and encode\n",
    "    df['genres'] = df['genres'].apply(lambda x: x.split(', ') if isinstance(x, str) else [])\n",
    "    mlb = MultiLabelBinarizer()\n",
    "    genres_encoded = pd.DataFrame(mlb.fit_transform(df['genres']), columns=mlb.classes_, index=df.index)\n",
    "    \n",
    "    # Combine features\n",
    "    features = pd.concat([df[['releaseYear', 'imdbNumVotes']], genres_encoded], axis=1)\n",
    "    \n",
    "    # Handle any remaining NaN values\n",
    "    features = features.fillna(0)\n",
    "    \n",
    "    return features, df['is_popular'], mlb.classes_"
   ]
  },
  {
   "cell_type": "code",
   "execution_count": 5,
   "id": "274a1de5-8d61-4434-a687-8cd0e8c8e380",
   "metadata": {},
   "outputs": [],
   "source": [
    "# Train the model\n",
    "def train_model(X, y):\n",
    "    X_train, X_test, y_train, y_test = train_test_split(X, y, test_size=0.2, random_state=42)\n",
    "    \n",
    "    # Initialize and train Random Forest Classifier\n",
    "    model = RandomForestClassifier(n_estimators=100, random_state=42)\n",
    "    model.fit(X_train, y_train)\n",
    "    \n",
    "    # Evaluate the model\n",
    "    y_pred = model.predict(X_test)\n",
    "    accuracy = accuracy_score(y_test, y_pred)\n",
    "    print(f\"Model Accuracy: {accuracy:.2f}\")\n",
    "    print(\"\\nClassification Report:\")\n",
    "    print(classification_report(y_test, y_pred, target_names=['Not Popular', 'Popular']))\n",
    "    \n",
    "    return model, X.columns"
   ]
  },
  {
   "cell_type": "code",
   "execution_count": 6,
   "id": "d309df2c-491a-4c1a-a4e7-e67483e6d320",
   "metadata": {},
   "outputs": [],
   "source": [
    "# Predict popularity for a new show\n",
    "def predict_popularity(model, features, genres_list, release_year, imdb_votes, genre_columns):\n",
    "    # Create input data\n",
    "    input_data = pd.DataFrame({\n",
    "        'releaseYear': [release_year],\n",
    "        'imdbNumVotes': [imdb_votes]\n",
    "    })\n",
    "    \n",
    "    # Encode genres\n",
    "    genres_encoded = np.zeros(len(genre_columns))\n",
    "    for genre in genres_list:\n",
    "        if genre in genre_columns:\n",
    "            genres_encoded[np.where(genre_columns == genre)] = 1\n",
    "    genres_df = pd.DataFrame([genres_encoded], columns=genre_columns)\n",
    "    \n",
    "    # Combine all features\n",
    "    input_features = pd.concat([input_data, genres_df], axis=1)\n",
    "    \n",
    "    # Predict\n",
    "    prediction = model.predict(input_features)\n",
    "    probability = model.predict_proba(input_features)[0][1]\n",
    "    \n",
    "    return 'Popular' if prediction[0] == 1 else 'Not Popular', probability"
   ]
  },
  {
   "cell_type": "code",
   "execution_count": 7,
   "id": "9d8ab7ff-55f8-42c8-8bb9-01248a87c194",
   "metadata": {
    "editable": true,
    "slideshow": {
     "slide_type": ""
    },
    "tags": []
   },
   "outputs": [
    {
     "name": "stdout",
     "output_type": "stream",
     "text": [
      "Model Accuracy: 0.66\n",
      "\n",
      "Classification Report:\n",
      "              precision    recall  f1-score   support\n",
      "\n",
      " Not Popular       0.67      0.70      0.68      2110\n",
      "     Popular       0.65      0.61      0.63      1906\n",
      "\n",
      "    accuracy                           0.66      4016\n",
      "   macro avg       0.66      0.66      0.66      4016\n",
      "weighted avg       0.66      0.66      0.66      4016\n",
      "\n",
      "\n",
      "Prediction for new show (Genres: ['Drama', 'Romance'], Year: 2024, Votes: 50000):\n",
      "Popularity: Not Popular (Probability of being popular: 0.15)\n"
     ]
    }
   ],
   "source": [
    "# Main execution\n",
    "if __name__ == '__main__':\n",
    "    # Load and preprocess data\n",
    "    df = load_data()\n",
    "    X, y, genre_columns = preprocess_data(df)\n",
    "    \n",
    "    # Train the model\n",
    "    model, feature_columns = train_model(X, y)\n",
    "    \n",
    "    # Example prediction\n",
    "    new_show_genres = ['Drama', 'Romance']\n",
    "    new_show_year = 2024\n",
    "    new_show_votes = 50000\n",
    "    result, prob = predict_popularity(model, feature_columns, new_show_genres, new_show_year, new_show_votes, genre_columns)\n",
    "    print(f\"\\nPrediction for new show (Genres: {new_show_genres}, Year: {new_show_year}, Votes: {new_show_votes}):\")\n",
    "    print(f\"Popularity: {result} (Probability of being popular: {prob:.2f})\")"
   ]
  }
 ],
 "metadata": {
  "kernelspec": {
   "display_name": "anaconda-2024.02-py310",
   "language": "python",
   "name": "conda-env-anaconda-2024.02-py310-py"
  },
  "language_info": {
   "codemirror_mode": {
    "name": "ipython",
    "version": 3
   },
   "file_extension": ".py",
   "mimetype": "text/x-python",
   "name": "python",
   "nbconvert_exporter": "python",
   "pygments_lexer": "ipython3",
   "version": "3.10.14"
  }
 },
 "nbformat": 4,
 "nbformat_minor": 5
}
