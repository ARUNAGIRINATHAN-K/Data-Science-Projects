{
 "cells": [
  {
   "cell_type": "code",
   "execution_count": 2,
   "id": "fc8e6c2c",
   "metadata": {},
   "outputs": [],
   "source": [
    "import pandas as pd\n",
    "import numpy as np\n",
    "import matplotlib.pyplot as plt\n",
    "import seaborn as sns"
   ]
  },
  {
   "cell_type": "code",
   "execution_count": 4,
   "id": "2bb6b157",
   "metadata": {},
   "outputs": [],
   "source": [
    "df = pd.read_csv(\"/workspaces/Intermediate-Data-Science-Projects/Retail-Demand-Forecasting/dataset/E-commerce Shopping Dataset.csv\")"
   ]
  },
  {
   "cell_type": "code",
   "execution_count": 5,
   "id": "9f5c1fc1",
   "metadata": {},
   "outputs": [],
   "source": [
    "df['order_date'] = pd.to_datetime(df['order_date'])"
   ]
  },
  {
   "cell_type": "code",
   "execution_count": 6,
   "id": "0946873c",
   "metadata": {},
   "outputs": [
    {
     "name": "stdout",
     "output_type": "stream",
     "text": [
      "Shape: (3000, 17)\n",
      "Columns: Index(['Unnamed: 0', 'order_id', 'customer_id', 'order_date',\n",
      "       'product_category', 'product_price', 'quantity', 'payment_method',\n",
      "       'delivery_status', 'city', 'state', 'zipcode', 'product_id',\n",
      "       'discount_applied', 'order_value', 'review_rating', 'return_requested'],\n",
      "      dtype='object')\n"
     ]
    }
   ],
   "source": [
    "print(\"Shape:\", df.shape)\n",
    "print(\"Columns:\", df.columns)"
   ]
  },
  {
   "cell_type": "code",
   "execution_count": 7,
   "id": "6e7fdf3b",
   "metadata": {},
   "outputs": [
    {
     "name": "stdout",
     "output_type": "stream",
     "text": [
      "\n",
      "Missing values:\n",
      "Unnamed: 0            0\n",
      "order_id              0\n",
      "customer_id           0\n",
      "order_date            0\n",
      "product_category      0\n",
      "product_price         0\n",
      "quantity              0\n",
      "payment_method        0\n",
      "delivery_status       0\n",
      "city                  0\n",
      "state                 0\n",
      "zipcode               0\n",
      "product_id            0\n",
      "discount_applied      0\n",
      "order_value           0\n",
      "review_rating       130\n",
      "return_requested      0\n",
      "dtype: int64\n"
     ]
    }
   ],
   "source": [
    "print(\"\\nMissing values:\")\n",
    "print(df.isnull().sum())"
   ]
  },
  {
   "cell_type": "code",
   "execution_count": 8,
   "id": "6694f167",
   "metadata": {},
   "outputs": [
    {
     "name": "stdout",
     "output_type": "stream",
     "text": [
      "\n",
      "Data types:\n",
      "Unnamed: 0                   int64\n",
      "order_id                    object\n",
      "customer_id                 object\n",
      "order_date          datetime64[ns]\n",
      "product_category            object\n",
      "product_price              float64\n",
      "quantity                     int64\n",
      "payment_method              object\n",
      "delivery_status             object\n",
      "city                        object\n",
      "state                       object\n",
      "zipcode                      int64\n",
      "product_id                  object\n",
      "discount_applied           float64\n",
      "order_value                float64\n",
      "review_rating              float64\n",
      "return_requested              bool\n",
      "dtype: object\n"
     ]
    }
   ],
   "source": [
    "print(\"\\nData types:\")\n",
    "print(df.dtypes)"
   ]
  },
  {
   "cell_type": "code",
   "execution_count": 11,
   "id": "4968d01b",
   "metadata": {},
   "outputs": [
    {
     "data": {
      "image/png": "[encoded data removed]",
      "text/plain": [
       "<Figure size 800x400 with 1 Axes>"
      ]
     },
     "metadata": {},
     "output_type": "display_data"
    }
   ],
   "source": [
    "plt.figure(figsize=(8, 4))\n",
    "sns.histplot(y=df['product_price'],x=df['product_category'] ,bins=50, kde=True, color='skyblue')\n",
    "plt.title(\"Sales Distribution\")\n",
    "plt.xlabel(\"Units Sold\")\n",
    "plt.ylabel(\"Frequency\")\n",
    "plt.show()"
   ]
  },
  {
   "cell_type": "code",
   "execution_count": 12,
   "id": "56b72253",
   "metadata": {},
   "outputs": [],
   "source": [
    "sales_by_date = df.groupby('order_date')['product_price'].sum().reset_index()"
   ]
  }
 ],
 "metadata": {
  "kernelspec": {
   "display_name": "Python 3",
   "language": "python",
   "name": "python3"
  },
  "language_info": {
   "codemirror_mode": {
    "name": "ipython",
    "version": 3
   },
   "file_extension": ".py",
   "mimetype": "text/x-python",
   "name": "python",
   "nbconvert_exporter": "python",
   "pygments_lexer": "ipython3",
   "version": "3.12.1"
  }
 },
 "nbformat": 4,
 "nbformat_minor": 5
}
