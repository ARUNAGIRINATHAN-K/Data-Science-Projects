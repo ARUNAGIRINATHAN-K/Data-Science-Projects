{
 "cells": [
  {
   "cell_type": "code",
   "execution_count": 1,
   "id": "0b0d18b4-ed84-4189-ae4c-db599edd5ee9",
   "metadata": {},
   "outputs": [],
   "source": [
    "import pandas as pd\n",
    "import matplotlib.pyplot as plt\n",
    "import seaborn as sns\n",
    "import numpy as np"
   ]
  },
  {
   "cell_type": "code",
   "execution_count": 2,
   "id": "2407a8c4-e8a5-4e56-a075-bb9804334b26",
   "metadata": {},
   "outputs": [],
   "source": [
    "# Setting up visualization style\n",
    "sns.set_style(\"whitegrid\")\n",
    "plt.rcParams['figure.figsize'] = (10, 6)"
   ]
  },
  {
   "cell_type": "code",
   "execution_count": 3,
   "id": "f6cbdb6e-768d-40f8-94c0-f05c19cf52ca",
   "metadata": {},
   "outputs": [],
   "source": [
    "# Loading the dataset\n",
    "df = pd.read_csv(\"city_transit_data_sample.csv\")"
   ]
  },
  {
   "cell_type": "code",
   "execution_count": 4,
   "id": "3fd9b3b6-c5cd-4f6f-90d8-8bccafe6e8b7",
   "metadata": {},
   "outputs": [],
   "source": [
    "# Converting timestamp columns to datetime\n",
    "df['Scheduled_Arrival'] = pd.to_datetime(df['Scheduled_Arrival'])\n",
    "df['Actual_Arrival'] = pd.to_datetime(df['Actual_Arrival'])\n",
    "df['Date'] = df['Scheduled_Arrival'].dt.date\n",
    "df['Hour'] = df['Scheduled_Arrival'].dt.hour"
   ]
  },
  {
   "cell_type": "code",
   "execution_count": 5,
   "id": "b8454256-7be8-4a32-9f6d-1715e699c4a9",
   "metadata": {},
   "outputs": [],
   "source": [
    "# Handling missing values (if any)\n",
    "df = df.dropna(subset=['Delay_Minutes', 'Weather_Condition', 'Route', 'Station'])"
   ]
  },
  {
   "cell_type": "code",
   "execution_count": 6,
   "id": "67e53abb-209d-4274-9975-b5fc2f6c6dfe",
   "metadata": {},
   "outputs": [],
   "source": [
    "# Time Series Analysis: Average delay by hour\n",
    "hourly_delays = df.groupby('Hour')['Delay_Minutes'].mean()\n",
    "plt.figure()\n",
    "hourly_delays.plot(kind='line', marker='o', color='b')\n",
    "plt.title('Average Delay by Hour of Day')\n",
    "plt.xlabel('Hour of Day')\n",
    "plt.ylabel('Average Delay (Minutes)')\n",
    "plt.xticks(range(0, 24))\n",
    "plt.savefig('hourly_delays.png')\n",
    "plt.close()"
   ]
  },
  {
   "cell_type": "code",
   "execution_count": 7,
   "id": "d9653086-6d49-4411-98bf-1bb734213d5a",
   "metadata": {},
   "outputs": [],
   "source": [
    "# Route-Based Analysis: Average delay by route\n",
    "route_delays = df.groupby('Route')['Delay_Minutes'].mean().sort_values()\n",
    "plt.figure()\n",
    "route_delays.plot(kind='bar', color='green')\n",
    "plt.title('Average Delay by Route')\n",
    "plt.xlabel('Route')\n",
    "plt.ylabel('Average Delay (Minutes)')\n",
    "plt.savefig('route_delays.png')\n",
    "plt.close()"
   ]
  },
  {
   "cell_type": "code",
   "execution_count": 8,
   "id": "c3ac8925-da76-400e-a19e-9cbc860d8179",
   "metadata": {},
   "outputs": [],
   "source": [
    "# Station-Based Analysis: Average delay by station\n",
    "station_delays = df.groupby('Station')['Delay_Minutes'].mean().sort_values()\n",
    "plt.figure()\n",
    "station_delays.plot(kind='bar', color='purple')\n",
    "plt.title('Average Delay by Station')\n",
    "plt.xlabel('Station')\n",
    "plt.ylabel('Average Delay (Minutes)')\n",
    "plt.savefig('station_delays.png')\n",
    "plt.close()"
   ]
  },
  {
   "cell_type": "code",
   "execution_count": 9,
   "id": "3d784220-3ac9-428c-abe2-b4b6bbe8b524",
   "metadata": {},
   "outputs": [],
   "source": [
    "# Weather Impact Analysis: Average delay by weather condition\n",
    "weather_delays = df.groupby('Weather_Condition')['Delay_Minutes'].mean().sort_values()\n",
    "plt.figure()\n",
    "weather_delays.plot(kind='bar', color='orange')\n",
    "plt.title('Average Delay by Weather Condition')\n",
    "plt.xlabel('Weather Condition')\n",
    "plt.ylabel('Average Delay (Minutes)')\n",
    "plt.savefig('weather_delays.png')\n",
    "plt.close()"
   ]
  },
  {
   "cell_type": "code",
   "execution_count": 10,
   "id": "a53d9a1e-2fde-41e8-9443-83379721518f",
   "metadata": {},
   "outputs": [],
   "source": [
    "# Correlation Analysis: Create numeric proxy for weather conditions\n",
    "weather_map = {'Clear': 0, 'Cloudy': 1, 'Rainy': 2, 'Snow': 3, 'Foggy': 4}\n",
    "df['Weather_Score'] = df['Weather_Condition'].map(weather_map)"
   ]
  },
  {
   "cell_type": "code",
   "execution_count": null,
   "id": "5782616c-6765-46ae-aaee-85c3ac5c517e",
   "metadata": {},
   "outputs": [],
   "source": [
    "# Correlation matrix\n",
    "corr_matrix = df[['Delay_Minutes', 'Weather_Score']].corr()\n",
    "plt.figure()\n",
    "sns.heatmap(corr_matrix, annot=True, cmap='coolwarm', center=0)\n",
    "plt.title('Correlation Matrix: Delay vs. Weather Score')\n",
    "plt.savefig('correlation_matrix.png')\n",
    "plt.close()\n"
   ]
  }
 ],
 "metadata": {
  "kernelspec": {
   "display_name": "anaconda-panel-2023.05-py310",
   "language": "python",
   "name": "conda-env-anaconda-panel-2023.05-py310-py"
  },
  "language_info": {
   "codemirror_mode": {
    "name": "ipython",
    "version": 3
   },
   "file_extension": ".py",
   "mimetype": "text/x-python",
   "name": "python",
   "nbconvert_exporter": "python",
   "pygments_lexer": "ipython3",
   "version": "3.11.5"
  }
 },
 "nbformat": 4,
 "nbformat_minor": 5
}
